{
 "cells": [
  {
   "cell_type": "code",
   "execution_count": 13,
   "id": "a6dbaf9f",
   "metadata": {},
   "outputs": [],
   "source": [
    "import numpy as np\n",
    "import scipy"
   ]
  },
  {
   "cell_type": "code",
   "execution_count": 14,
   "id": "100ea0c3",
   "metadata": {},
   "outputs": [],
   "source": [
    "V=np.array([[0.63,0.03,0.86,0.29,0.60,0.99],[0.45,0.40,0.17,0.79,0.38,0.43],[0.87,0.86,0.16,0.04,0.15,0.76]])\n",
    "W=np.array([[0.17,0.26,0.78,0.83,0.69,0.64],[0.03,0.37,0.65,0.96,0.72,0.77],[0.50,0.15,0.67,0.82,0.04,0.34]])"
   ]
  },
  {
   "cell_type": "code",
   "execution_count": 19,
   "id": "800b12d4",
   "metadata": {},
   "outputs": [
    {
     "name": "stdout",
     "output_type": "stream",
     "text": [
      "[[-0.25513326  0.95960231  0.11861881]\n",
      " [-0.66794375 -0.26361786  0.69595744]\n",
      " [ 0.69911241  0.0983312   0.70821805]]\n",
      "Sum of squared errors for vectors ( 1 , 2 ) =  8.761209982551708\n",
      "Sum of squared errors for vectors ( 1 , 3 ) =  3.982949162194488\n",
      "Sum of squared errors for vectors ( 1 , 4 ) =  3.669461697326299\n",
      "Sum of squared errors for vectors ( 1 , 5 ) =  3.2208490895156356\n",
      "Sum of squared errors for vectors ( 1 , 6 ) =  4.378053694780402\n",
      "Sum of squared errors for vectors ( 2 , 1 ) =  5.387011205009763\n",
      "Sum of squared errors for vectors ( 2 , 3 ) =  5.377002708270709\n",
      "Sum of squared errors for vectors ( 2 , 4 ) =  6.362287258446778\n",
      "Sum of squared errors for vectors ( 2 , 5 ) =  7.06092300335579\n",
      "Sum of squared errors for vectors ( 2 , 6 ) =  5.985628740354525\n",
      "Sum of squared errors for vectors ( 3 , 1 ) =  4.1654084183687585\n",
      "Sum of squared errors for vectors ( 3 , 2 ) =  3.7721338619623745\n",
      "Sum of squared errors for vectors ( 3 , 4 ) =  3.699475435720793\n",
      "Sum of squared errors for vectors ( 3 , 5 ) =  3.523045725497045\n",
      "Sum of squared errors for vectors ( 3 , 6 ) =  3.9373556583238964\n",
      "Sum of squared errors for vectors ( 4 , 1 ) =  4.568304858115327\n",
      "Sum of squared errors for vectors ( 4 , 2 ) =  5.2474838854831924\n",
      "Sum of squared errors for vectors ( 4 , 3 ) =  4.39223214061747\n",
      "Sum of squared errors for vectors ( 4 , 5 ) =  4.031025569965559\n",
      "Sum of squared errors for vectors ( 4 , 6 ) =  4.38665846328653\n",
      "Sum of squared errors for vectors ( 5 , 1 ) =  2.800761875119166\n",
      "Sum of squared errors for vectors ( 5 , 2 ) =  2.946502485587567\n",
      "Sum of squared errors for vectors ( 5 , 3 ) =  4.277533377611668\n",
      "Sum of squared errors for vectors ( 5 , 4 ) =  3.5339988038149666\n",
      "Sum of squared errors for vectors ( 5 , 6 ) =  3.299967255389409\n",
      "Sum of squared errors for vectors ( 6 , 1 ) =  3.442701491114165\n",
      "Sum of squared errors for vectors ( 6 , 2 ) =  3.7712286009064777\n",
      "Sum of squared errors for vectors ( 6 , 3 ) =  3.67889720757322\n",
      "Sum of squared errors for vectors ( 6 , 4 ) =  3.307514462045091\n",
      "Sum of squared errors for vectors ( 6 , 5 ) =  3.7325010390388873\n",
      "2.800761875119166\n"
     ]
    }
   ],
   "source": [
    "#TRIAD\n",
    "error=[]\n",
    "for i in range(6):\n",
    "    for j in range(6):\n",
    "        if i!=j:\n",
    "            v1=V[:,i]\n",
    "            v2=V[:,j]\n",
    "            w1=W[:,i]\n",
    "            w2=W[:,j]\n",
    "            r1=v1/(np.sqrt(np.sum(v1**2)))\n",
    "            r2=np.cross(v1,v2)\n",
    "            r2=r2/(np.sqrt(np.sum(r2**2)))\n",
    "            r3=np.cross(r1,r2)\n",
    "            s1=w1/(np.sqrt(np.sum(w1**2)))\n",
    "            s2=np.cross(w1,w2)\n",
    "            s2=s2/(np.sqrt(np.sum(s2**2)))\n",
    "            s3=np.cross(s1,s2)\n",
    "            Mobs=np.array([s1,s2,s3]).T\n",
    "            Mref=np.array([r1,r2,r3]).T\n",
    "            A=np.matmul(Mobs,Mref.T)\n",
    "            if(i==0 and j==1):\n",
    "                print(A)\n",
    "            e=W-np.matmul(A,V)\n",
    "            sqe=np.sum(e*e)\n",
    "            error.append(sqe)\n",
    "            print('Sum of squared errors for vectors (',i+1,',',j+1,') = ',sqe)\n",
    "min_error=np.min(error)\n",
    "print(min_error)\n"
   ]
  },
  {
   "cell_type": "code",
   "execution_count": 16,
   "id": "c2d4c1aa",
   "metadata": {},
   "outputs": [
    {
     "name": "stdout",
     "output_type": "stream",
     "text": [
      "[[ 0.97824434 -0.19170497  0.07929199]\n",
      " [ 0.20364119  0.96030898 -0.19062246]\n",
      " [-0.03960153  0.20262246  0.97845585]]\n",
      "Sum of squared errors= 2.5152519641610804\n"
     ]
    }
   ],
   "source": [
    "#QUEST\n",
    "#Normalized\n",
    "V1=V\n",
    "W1=W\n",
    "for j in range(6):\n",
    "    V1[:,j]/=np.sqrt(np.sum(V[:,j]**2))\n",
    "    W1[:,j]/=np.sqrt(np.sum(V[:,j]**2))\n",
    "a=np.ones(6)\n",
    "a=a/np.sum(a)\n",
    "B=np.zeros([3,3])\n",
    "Z=np.zeros(3)\n",
    "for i in range(6):\n",
    "    vi=np.array([V1[:,i]]).T\n",
    "    wi=np.array([W1[:,i]]).T\n",
    "    B+=a[i]*np.matmul(wi,vi.T)\n",
    "    vi=V1[:,i]\n",
    "    wi=W1[:,i]\n",
    "    Z+=a[i]*np.cross(wi,vi)\n",
    "sigma=np.trace(B)\n",
    "S=B+B.T\n",
    "TL=S-sigma*np.eye(3)\n",
    "K=np.zeros([4,4])\n",
    "K[0:3,0:3]=TL\n",
    "K[0:3,3]=Z\n",
    "K[3,0:3]=Z\n",
    "K[3,3]=sigma\n",
    "l,q0=np.linalg.eig(K)\n",
    "qopt=q0[:,np.argmax(l)]\n",
    "q=qopt[3]\n",
    "Q=qopt[0:3]\n",
    "Q_t=np.array([[0,Q[2],-Q[1]],[-Q[2],0,Q[0]],[Q[1],-Q[0],0]])\n",
    "Q=np.array([Q]).T\n",
    "A=(q**2-np.sum(Q**2))*np.eye(3)+2*np.matmul(Q,Q.T)+2*q*Q_t\n",
    "print(A)\n",
    "e=W-np.matmul(A,V)\n",
    "sqe=np.sum(e*e)\n",
    "print('Sum of squared errors=',sqe)"
   ]
  },
  {
   "cell_type": "code",
   "execution_count": 17,
   "id": "e6f7f8fe",
   "metadata": {},
   "outputs": [
    {
     "name": "stdout",
     "output_type": "stream",
     "text": [
      "1.0\n",
      "[[ 0.97824434 -0.19170497  0.07929199]\n",
      " [ 0.20364119  0.96030898 -0.19062246]\n",
      " [-0.03960153  0.20262246  0.97845585]]\n",
      "Sum of squared errors= 2.5152519641610804\n"
     ]
    }
   ],
   "source": [
    "#Wahba\n",
    "V1=V\n",
    "W1=W\n",
    "for j in range(6):\n",
    "    V1[:,j]/=np.sqrt(np.sum(V[:,j]**2))\n",
    "    W1[:,j]/=np.sqrt(np.sum(V[:,j]**2))\n",
    "A=np.matmul(W1,V1.T)\n",
    "U,P=scipy.linalg.polar(A)\n",
    "D,N=scipy.linalg.eig(P)\n",
    "D=np.diag(D)\n",
    "k=len(D)\n",
    "X=np.eye(k)\n",
    "if (np.linalg.det(U)>-1.01 and np.linalg.det(U)<-0.99):\n",
    "    X[k-1,k-1]=-1\n",
    "M=np.matmul(U,np.matmul(N.T,np.matmul(X.T,N)))\n",
    "print(np.linalg.det(M))\n",
    "print(M)\n",
    "E=W1-np.matmul(M,V1)\n",
    "sqe=np.matmul(E.T,E)\n",
    "print('Sum of squared errors=',np.trace(sqe))"
   ]
  },
  {
   "cell_type": "code",
   "execution_count": null,
   "id": "fbfdbaa4",
   "metadata": {},
   "outputs": [],
   "source": []
  }
 ],
 "metadata": {
  "kernelspec": {
   "display_name": "Python 3.8.10 64-bit",
   "language": "python",
   "name": "python3"
  },
  "language_info": {
   "codemirror_mode": {
    "name": "ipython",
    "version": 3
   },
   "file_extension": ".py",
   "mimetype": "text/x-python",
   "name": "python",
   "nbconvert_exporter": "python",
   "pygments_lexer": "ipython3",
   "version": "3.8.10"
  },
  "vscode": {
   "interpreter": {
    "hash": "e7370f93d1d0cde622a1f8e1c04877d8463912d04d973331ad4851f04de6915a"
   }
  }
 },
 "nbformat": 4,
 "nbformat_minor": 5
}
