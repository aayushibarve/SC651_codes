{
 "cells": [
  {
   "cell_type": "code",
   "execution_count": 1,
   "metadata": {},
   "outputs": [],
   "source": [
    "import numpy as np\n",
    "import scipy"
   ]
  },
  {
   "cell_type": "code",
   "execution_count": 95,
   "metadata": {},
   "outputs": [],
   "source": [
    "W1=np.array([[0.17,0.26,0.78,0.83,0.69,0.64],[0.03,0.37,0.65,0.96,0.72,0.77],[0.50,0.15,0.67,0.82,0.04,0.34]])\n",
    "V1=np.array([[0.63,0.03,0.86,0.29,0.60,0.99],[0.45,0.40,0.17,0.79,0.38,0.43],[0.87,0.86,0.16,0.04,0.15,0.76]])\n",
    "for i in range(len(W[0])):\n",
    "    W[:,i]=W1[:,i]/np.sqrt(np.matmul(W1[:,i].T,W1[:,i]))\n",
    "    V[:,i]=V1[:,i]/np.sqrt(np.matmul(V1[:,i].T,V1[:,i]))\n",
    "#print(W)\n",
    "#print(W1)"
   ]
  },
  {
   "cell_type": "code",
   "execution_count": 96,
   "metadata": {},
   "outputs": [
    {
     "name": "stdout",
     "output_type": "stream",
     "text": [
      "1.000000000000001\n",
      "[[ 0.97307269 -0.21660168  0.07882421]\n",
      " [ 0.22659041  0.96160772 -0.15481402]\n",
      " [-0.042265    0.16850611  0.98479407]]\n"
     ]
    }
   ],
   "source": [
    "A=np.matmul(W1,V1.T)\n",
    "U,P=scipy.linalg.polar(A)\n",
    "D,N=scipy.linalg.eig(P)\n",
    "D=np.diag(D)\n",
    "k=len(D)\n",
    "X=np.eye(k)\n",
    "if (np.linalg.det(U)>-1.01 and np.linalg.det(U)<-0.99):\n",
    "    X[k-1,k-1]=-1\n",
    "M=np.matmul(U,np.matmul(N.T,np.matmul(X.T,N)))\n",
    "print(np.linalg.det(M))\n",
    "print(M)"
   ]
  },
  {
   "cell_type": "code",
   "execution_count": 97,
   "metadata": {},
   "outputs": [
    {
     "name": "stdout",
     "output_type": "stream",
     "text": [
      "Sum of squared errors= 2.951774052773257\n",
      "RMSE= 0.7014002724043356\n"
     ]
    }
   ],
   "source": [
    "E=W1-np.matmul(M,V1)\n",
    "E0=W1-V1\n",
    "sqe=np.matmul(E.T,E)\n",
    "sqe0=np.matmul(E0.T,E0)\n",
    "print('Sum of squared errors=',np.trace(sqe))\n",
    "print('RMSE=',np.sqrt(np.trace(sqe)/6))"
   ]
  },
  {
   "cell_type": "code",
   "execution_count": null,
   "metadata": {},
   "outputs": [],
   "source": []
  }
 ],
 "metadata": {
  "kernelspec": {
   "display_name": "Python 3.8.10 64-bit",
   "language": "python",
   "name": "python3"
  },
  "language_info": {
   "codemirror_mode": {
    "name": "ipython",
    "version": 3
   },
   "file_extension": ".py",
   "mimetype": "text/x-python",
   "name": "python",
   "nbconvert_exporter": "python",
   "pygments_lexer": "ipython3",
   "version": "3.8.10"
  },
  "orig_nbformat": 4,
  "vscode": {
   "interpreter": {
    "hash": "e7370f93d1d0cde622a1f8e1c04877d8463912d04d973331ad4851f04de6915a"
   }
  }
 },
 "nbformat": 4,
 "nbformat_minor": 2
}
